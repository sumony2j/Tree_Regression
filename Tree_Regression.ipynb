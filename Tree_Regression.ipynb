{
 "cells": [
  {
   "cell_type": "markdown",
   "id": "0df42d4a",
   "metadata": {},
   "source": [
    "## Import Libraries"
   ]
  },
  {
   "cell_type": "code",
   "execution_count": 356,
   "id": "0eaaf09b",
   "metadata": {},
   "outputs": [],
   "source": [
    "import numpy as np\n",
    "import pandas as pd\n",
    "import matplotlib.pyplot as plt\n",
    "import seaborn as sns\n",
    "from sklearn.tree import DecisionTreeRegressor\n",
    "from sklearn.ensemble import RandomForestRegressor\n",
    "from sklearn.model_selection import GridSearchCV,train_test_split,cross_val_score\n",
    "from sklearn.metrics import r2_score,mean_squared_error,mean_absolute_error"
   ]
  },
  {
   "cell_type": "markdown",
   "id": "f07fe1da",
   "metadata": {},
   "source": [
    "## Load Dataset"
   ]
  },
  {
   "cell_type": "code",
   "execution_count": 357,
   "id": "4c2b2466",
   "metadata": {},
   "outputs": [],
   "source": [
    "df= pd.read_csv('./Data/train.csv')"
   ]
  },
  {
   "cell_type": "markdown",
   "id": "f8daba04",
   "metadata": {},
   "source": [
    "## Explore Dataset"
   ]
  },
  {
   "cell_type": "code",
   "execution_count": 358,
   "id": "2c327fb2",
   "metadata": {},
   "outputs": [
    {
     "data": {
      "text/html": [
       "<div>\n",
       "<style scoped>\n",
       "    .dataframe tbody tr th:only-of-type {\n",
       "        vertical-align: middle;\n",
       "    }\n",
       "\n",
       "    .dataframe tbody tr th {\n",
       "        vertical-align: top;\n",
       "    }\n",
       "\n",
       "    .dataframe thead th {\n",
       "        text-align: right;\n",
       "    }\n",
       "</style>\n",
       "<table border=\"1\" class=\"dataframe\">\n",
       "  <thead>\n",
       "    <tr style=\"text-align: right;\">\n",
       "      <th></th>\n",
       "      <th>X1</th>\n",
       "      <th>X2</th>\n",
       "      <th>X3</th>\n",
       "      <th>X4</th>\n",
       "      <th>X5</th>\n",
       "      <th>X6</th>\n",
       "      <th>X7</th>\n",
       "      <th>X8</th>\n",
       "      <th>output</th>\n",
       "    </tr>\n",
       "  </thead>\n",
       "  <tbody>\n",
       "    <tr>\n",
       "      <th>0</th>\n",
       "      <td>0.63</td>\n",
       "      <td>498.55</td>\n",
       "      <td>308.70</td>\n",
       "      <td>271.7</td>\n",
       "      <td>4.5</td>\n",
       "      <td>2</td>\n",
       "      <td>0.40</td>\n",
       "      <td>5</td>\n",
       "      <td>17.15</td>\n",
       "    </tr>\n",
       "    <tr>\n",
       "      <th>1</th>\n",
       "      <td>0.72</td>\n",
       "      <td>432.08</td>\n",
       "      <td>360.15</td>\n",
       "      <td>181.1</td>\n",
       "      <td>8.0</td>\n",
       "      <td>2</td>\n",
       "      <td>0.10</td>\n",
       "      <td>2</td>\n",
       "      <td>42.32</td>\n",
       "    </tr>\n",
       "    <tr>\n",
       "      <th>2</th>\n",
       "      <td>0.58</td>\n",
       "      <td>531.79</td>\n",
       "      <td>360.15</td>\n",
       "      <td>271.7</td>\n",
       "      <td>4.5</td>\n",
       "      <td>2</td>\n",
       "      <td>0.40</td>\n",
       "      <td>4</td>\n",
       "      <td>22.35</td>\n",
       "    </tr>\n",
       "    <tr>\n",
       "      <th>3</th>\n",
       "      <td>0.72</td>\n",
       "      <td>432.08</td>\n",
       "      <td>360.15</td>\n",
       "      <td>181.1</td>\n",
       "      <td>8.0</td>\n",
       "      <td>2</td>\n",
       "      <td>0.25</td>\n",
       "      <td>2</td>\n",
       "      <td>45.20</td>\n",
       "    </tr>\n",
       "    <tr>\n",
       "      <th>4</th>\n",
       "      <td>0.75</td>\n",
       "      <td>415.46</td>\n",
       "      <td>334.43</td>\n",
       "      <td>181.1</td>\n",
       "      <td>8.0</td>\n",
       "      <td>3</td>\n",
       "      <td>0.10</td>\n",
       "      <td>5</td>\n",
       "      <td>25.53</td>\n",
       "    </tr>\n",
       "    <tr>\n",
       "      <th>...</th>\n",
       "      <td>...</td>\n",
       "      <td>...</td>\n",
       "      <td>...</td>\n",
       "      <td>...</td>\n",
       "      <td>...</td>\n",
       "      <td>...</td>\n",
       "      <td>...</td>\n",
       "      <td>...</td>\n",
       "      <td>...</td>\n",
       "    </tr>\n",
       "    <tr>\n",
       "      <th>571</th>\n",
       "      <td>0.67</td>\n",
       "      <td>465.31</td>\n",
       "      <td>257.25</td>\n",
       "      <td>271.7</td>\n",
       "      <td>4.5</td>\n",
       "      <td>3</td>\n",
       "      <td>0.10</td>\n",
       "      <td>2</td>\n",
       "      <td>14.15</td>\n",
       "    </tr>\n",
       "    <tr>\n",
       "      <th>572</th>\n",
       "      <td>0.82</td>\n",
       "      <td>382.22</td>\n",
       "      <td>334.43</td>\n",
       "      <td>150.9</td>\n",
       "      <td>8.0</td>\n",
       "      <td>3</td>\n",
       "      <td>0.40</td>\n",
       "      <td>2</td>\n",
       "      <td>36.47</td>\n",
       "    </tr>\n",
       "    <tr>\n",
       "      <th>573</th>\n",
       "      <td>0.89</td>\n",
       "      <td>348.99</td>\n",
       "      <td>308.70</td>\n",
       "      <td>135.8</td>\n",
       "      <td>8.0</td>\n",
       "      <td>3</td>\n",
       "      <td>0.40</td>\n",
       "      <td>5</td>\n",
       "      <td>34.25</td>\n",
       "    </tr>\n",
       "    <tr>\n",
       "      <th>574</th>\n",
       "      <td>0.58</td>\n",
       "      <td>531.79</td>\n",
       "      <td>360.15</td>\n",
       "      <td>271.7</td>\n",
       "      <td>4.5</td>\n",
       "      <td>2</td>\n",
       "      <td>0.10</td>\n",
       "      <td>4</td>\n",
       "      <td>19.84</td>\n",
       "    </tr>\n",
       "    <tr>\n",
       "      <th>575</th>\n",
       "      <td>0.65</td>\n",
       "      <td>481.93</td>\n",
       "      <td>282.98</td>\n",
       "      <td>271.7</td>\n",
       "      <td>4.5</td>\n",
       "      <td>2</td>\n",
       "      <td>0.40</td>\n",
       "      <td>1</td>\n",
       "      <td>17.63</td>\n",
       "    </tr>\n",
       "  </tbody>\n",
       "</table>\n",
       "<p>576 rows × 9 columns</p>\n",
       "</div>"
      ],
      "text/plain": [
       "       X1      X2      X3     X4   X5  X6    X7  X8  output\n",
       "0    0.63  498.55  308.70  271.7  4.5   2  0.40   5   17.15\n",
       "1    0.72  432.08  360.15  181.1  8.0   2  0.10   2   42.32\n",
       "2    0.58  531.79  360.15  271.7  4.5   2  0.40   4   22.35\n",
       "3    0.72  432.08  360.15  181.1  8.0   2  0.25   2   45.20\n",
       "4    0.75  415.46  334.43  181.1  8.0   3  0.10   5   25.53\n",
       "..    ...     ...     ...    ...  ...  ..   ...  ..     ...\n",
       "571  0.67  465.31  257.25  271.7  4.5   3  0.10   2   14.15\n",
       "572  0.82  382.22  334.43  150.9  8.0   3  0.40   2   36.47\n",
       "573  0.89  348.99  308.70  135.8  8.0   3  0.40   5   34.25\n",
       "574  0.58  531.79  360.15  271.7  4.5   2  0.10   4   19.84\n",
       "575  0.65  481.93  282.98  271.7  4.5   2  0.40   1   17.63\n",
       "\n",
       "[576 rows x 9 columns]"
      ]
     },
     "execution_count": 358,
     "metadata": {},
     "output_type": "execute_result"
    }
   ],
   "source": [
    "df"
   ]
  },
  {
   "cell_type": "code",
   "execution_count": 359,
   "id": "a2dee774",
   "metadata": {},
   "outputs": [
    {
     "data": {
      "text/plain": [
       "(576, 9)"
      ]
     },
     "execution_count": 359,
     "metadata": {},
     "output_type": "execute_result"
    }
   ],
   "source": [
    "df.shape"
   ]
  },
  {
   "cell_type": "code",
   "execution_count": 360,
   "id": "5246485f",
   "metadata": {},
   "outputs": [
    {
     "name": "stdout",
     "output_type": "stream",
     "text": [
      "<class 'pandas.core.frame.DataFrame'>\n",
      "RangeIndex: 576 entries, 0 to 575\n",
      "Data columns (total 9 columns):\n",
      " #   Column  Non-Null Count  Dtype  \n",
      "---  ------  --------------  -----  \n",
      " 0   X1      576 non-null    float64\n",
      " 1   X2      576 non-null    float64\n",
      " 2   X3      576 non-null    float64\n",
      " 3   X4      576 non-null    float64\n",
      " 4   X5      576 non-null    float64\n",
      " 5   X6      576 non-null    int64  \n",
      " 6   X7      576 non-null    float64\n",
      " 7   X8      576 non-null    int64  \n",
      " 8   output  576 non-null    float64\n",
      "dtypes: float64(7), int64(2)\n",
      "memory usage: 40.6 KB\n"
     ]
    }
   ],
   "source": [
    "df.info()"
   ]
  },
  {
   "cell_type": "code",
   "execution_count": 361,
   "id": "3a0ad259",
   "metadata": {},
   "outputs": [
    {
     "data": {
      "text/plain": [
       "X1        0\n",
       "X2        0\n",
       "X3        0\n",
       "X4        0\n",
       "X5        0\n",
       "X6        0\n",
       "X7        0\n",
       "X8        0\n",
       "output    0\n",
       "dtype: int64"
      ]
     },
     "execution_count": 361,
     "metadata": {},
     "output_type": "execute_result"
    }
   ],
   "source": [
    "df.isnull().sum()"
   ]
  },
  {
   "cell_type": "code",
   "execution_count": 362,
   "id": "50b184b4",
   "metadata": {},
   "outputs": [
    {
     "data": {
      "text/plain": [
       "X1        0\n",
       "X2        0\n",
       "X3        0\n",
       "X4        0\n",
       "X5        0\n",
       "X6        0\n",
       "X7        0\n",
       "X8        0\n",
       "output    0\n",
       "dtype: int64"
      ]
     },
     "execution_count": 362,
     "metadata": {},
     "output_type": "execute_result"
    }
   ],
   "source": [
    "df.isna().sum()"
   ]
  },
  {
   "cell_type": "code",
   "execution_count": 363,
   "id": "74c5db38",
   "metadata": {},
   "outputs": [
    {
     "data": {
      "text/html": [
       "<div>\n",
       "<style scoped>\n",
       "    .dataframe tbody tr th:only-of-type {\n",
       "        vertical-align: middle;\n",
       "    }\n",
       "\n",
       "    .dataframe tbody tr th {\n",
       "        vertical-align: top;\n",
       "    }\n",
       "\n",
       "    .dataframe thead th {\n",
       "        text-align: right;\n",
       "    }\n",
       "</style>\n",
       "<table border=\"1\" class=\"dataframe\">\n",
       "  <thead>\n",
       "    <tr style=\"text-align: right;\">\n",
       "      <th></th>\n",
       "      <th>X1</th>\n",
       "      <th>X2</th>\n",
       "      <th>X3</th>\n",
       "      <th>X4</th>\n",
       "      <th>X5</th>\n",
       "      <th>X6</th>\n",
       "      <th>X7</th>\n",
       "      <th>X8</th>\n",
       "      <th>output</th>\n",
       "    </tr>\n",
       "  </thead>\n",
       "  <tbody>\n",
       "    <tr>\n",
       "      <th>count</th>\n",
       "      <td>576.000000</td>\n",
       "      <td>576.000000</td>\n",
       "      <td>576.0000</td>\n",
       "      <td>576.000000</td>\n",
       "      <td>576.000000</td>\n",
       "      <td>576.000000</td>\n",
       "      <td>576.000000</td>\n",
       "      <td>576.000000</td>\n",
       "      <td>576.000000</td>\n",
       "    </tr>\n",
       "    <tr>\n",
       "      <th>mean</th>\n",
       "      <td>0.695833</td>\n",
       "      <td>455.620833</td>\n",
       "      <td>334.4275</td>\n",
       "      <td>217.591667</td>\n",
       "      <td>6.250000</td>\n",
       "      <td>3.333333</td>\n",
       "      <td>0.234375</td>\n",
       "      <td>2.812500</td>\n",
       "      <td>25.382483</td>\n",
       "    </tr>\n",
       "    <tr>\n",
       "      <th>std</th>\n",
       "      <td>0.095517</td>\n",
       "      <td>59.761950</td>\n",
       "      <td>45.8187</td>\n",
       "      <td>55.686049</td>\n",
       "      <td>1.751521</td>\n",
       "      <td>1.248303</td>\n",
       "      <td>0.133250</td>\n",
       "      <td>1.551297</td>\n",
       "      <td>9.853758</td>\n",
       "    </tr>\n",
       "    <tr>\n",
       "      <th>min</th>\n",
       "      <td>0.570000</td>\n",
       "      <td>348.990000</td>\n",
       "      <td>257.2500</td>\n",
       "      <td>135.800000</td>\n",
       "      <td>4.500000</td>\n",
       "      <td>2.000000</td>\n",
       "      <td>0.000000</td>\n",
       "      <td>0.000000</td>\n",
       "      <td>11.250000</td>\n",
       "    </tr>\n",
       "    <tr>\n",
       "      <th>25%</th>\n",
       "      <td>0.622500</td>\n",
       "      <td>411.305000</td>\n",
       "      <td>308.7000</td>\n",
       "      <td>173.550000</td>\n",
       "      <td>4.500000</td>\n",
       "      <td>2.000000</td>\n",
       "      <td>0.100000</td>\n",
       "      <td>1.750000</td>\n",
       "      <td>16.110000</td>\n",
       "    </tr>\n",
       "    <tr>\n",
       "      <th>50%</th>\n",
       "      <td>0.680000</td>\n",
       "      <td>457.005000</td>\n",
       "      <td>334.4300</td>\n",
       "      <td>226.400000</td>\n",
       "      <td>6.250000</td>\n",
       "      <td>3.000000</td>\n",
       "      <td>0.250000</td>\n",
       "      <td>3.000000</td>\n",
       "      <td>22.700000</td>\n",
       "    </tr>\n",
       "    <tr>\n",
       "      <th>75%</th>\n",
       "      <td>0.757500</td>\n",
       "      <td>502.705000</td>\n",
       "      <td>360.1500</td>\n",
       "      <td>271.700000</td>\n",
       "      <td>8.000000</td>\n",
       "      <td>5.000000</td>\n",
       "      <td>0.400000</td>\n",
       "      <td>4.000000</td>\n",
       "      <td>34.155000</td>\n",
       "    </tr>\n",
       "    <tr>\n",
       "      <th>max</th>\n",
       "      <td>0.890000</td>\n",
       "      <td>548.410000</td>\n",
       "      <td>437.3300</td>\n",
       "      <td>271.700000</td>\n",
       "      <td>8.000000</td>\n",
       "      <td>5.000000</td>\n",
       "      <td>0.400000</td>\n",
       "      <td>5.000000</td>\n",
       "      <td>49.490000</td>\n",
       "    </tr>\n",
       "  </tbody>\n",
       "</table>\n",
       "</div>"
      ],
      "text/plain": [
       "               X1          X2        X3          X4          X5          X6  \\\n",
       "count  576.000000  576.000000  576.0000  576.000000  576.000000  576.000000   \n",
       "mean     0.695833  455.620833  334.4275  217.591667    6.250000    3.333333   \n",
       "std      0.095517   59.761950   45.8187   55.686049    1.751521    1.248303   \n",
       "min      0.570000  348.990000  257.2500  135.800000    4.500000    2.000000   \n",
       "25%      0.622500  411.305000  308.7000  173.550000    4.500000    2.000000   \n",
       "50%      0.680000  457.005000  334.4300  226.400000    6.250000    3.000000   \n",
       "75%      0.757500  502.705000  360.1500  271.700000    8.000000    5.000000   \n",
       "max      0.890000  548.410000  437.3300  271.700000    8.000000    5.000000   \n",
       "\n",
       "               X7          X8      output  \n",
       "count  576.000000  576.000000  576.000000  \n",
       "mean     0.234375    2.812500   25.382483  \n",
       "std      0.133250    1.551297    9.853758  \n",
       "min      0.000000    0.000000   11.250000  \n",
       "25%      0.100000    1.750000   16.110000  \n",
       "50%      0.250000    3.000000   22.700000  \n",
       "75%      0.400000    4.000000   34.155000  \n",
       "max      0.400000    5.000000   49.490000  "
      ]
     },
     "execution_count": 363,
     "metadata": {},
     "output_type": "execute_result"
    }
   ],
   "source": [
    "df.describe()"
   ]
  },
  {
   "cell_type": "code",
   "execution_count": 364,
   "id": "bf65e193",
   "metadata": {},
   "outputs": [
    {
     "data": {
      "text/plain": [
       "<AxesSubplot:>"
      ]
     },
     "execution_count": 364,
     "metadata": {},
     "output_type": "execute_result"
    },
    {
     "data": {
      "image/png": "[encoded data removed]",
      "text/plain": [
       "<Figure size 1080x720 with 2 Axes>"
      ]
     },
     "metadata": {
      "needs_background": "light"
     },
     "output_type": "display_data"
    }
   ],
   "source": [
    "plt.figure(figsize=(15,10))\n",
    "sns.heatmap(df.corr(),annot=True,cmap='Dark2_r')"
   ]
  },
  {
   "cell_type": "code",
   "execution_count": 365,
   "id": "05dd6c55",
   "metadata": {},
   "outputs": [],
   "source": [
    "features=df.drop('output',axis=1)\n",
    "output=df['output']"
   ]
  },
  {
   "cell_type": "code",
   "execution_count": 366,
   "id": "30b644d5",
   "metadata": {},
   "outputs": [],
   "source": [
    "train_data,test_data,train_output,test_output = train_test_split(features,output,test_size=0.2,random_state=100)"
   ]
  },
  {
   "cell_type": "markdown",
   "id": "a63bb1d1",
   "metadata": {},
   "source": [
    "## Decision Tree "
   ]
  },
  {
   "cell_type": "code",
   "execution_count": 367,
   "id": "a4792bc3",
   "metadata": {},
   "outputs": [],
   "source": [
    "tuned_para={\n",
    "    'splitter':['best', 'random'],\n",
    "    'max_depth':range(3,15),\n",
    "    'max_features':['auto', 'sqrt', 'log2']\n",
    "}"
   ]
  },
  {
   "cell_type": "code",
   "execution_count": 368,
   "id": "14d5ac75",
   "metadata": {},
   "outputs": [],
   "source": [
    "reg=GridSearchCV(DecisionTreeRegressor(),tuned_para,cv=10)"
   ]
  },
  {
   "cell_type": "code",
   "execution_count": 369,
   "id": "ea88232e",
   "metadata": {},
   "outputs": [
    {
     "data": {
      "text/plain": [
       "GridSearchCV(cv=10, estimator=DecisionTreeRegressor(),\n",
       "             param_grid={'max_depth': range(3, 15),\n",
       "                         'max_features': ['auto', 'sqrt', 'log2'],\n",
       "                         'splitter': ['best', 'random']})"
      ]
     },
     "execution_count": 369,
     "metadata": {},
     "output_type": "execute_result"
    }
   ],
   "source": [
    "reg.fit(train_data,train_output)"
   ]
  },
  {
   "cell_type": "code",
   "execution_count": 370,
   "id": "d3e5fe94",
   "metadata": {},
   "outputs": [
    {
     "data": {
      "text/plain": [
       "0.9568109790075419"
      ]
     },
     "execution_count": 370,
     "metadata": {},
     "output_type": "execute_result"
    }
   ],
   "source": [
    "reg.best_score_"
   ]
  },
  {
   "cell_type": "code",
   "execution_count": 371,
   "id": "900a351c",
   "metadata": {},
   "outputs": [
    {
     "data": {
      "text/plain": [
       "{'max_depth': 7, 'max_features': 'log2', 'splitter': 'best'}"
      ]
     },
     "execution_count": 371,
     "metadata": {},
     "output_type": "execute_result"
    }
   ],
   "source": [
    "reg.best_params_"
   ]
  },
  {
   "cell_type": "code",
   "execution_count": 372,
   "id": "8f1b72a9",
   "metadata": {},
   "outputs": [],
   "source": [
    "tree=DecisionTreeRegressor(max_depth=6,max_features='auto',splitter='random',random_state=100)"
   ]
  },
  {
   "cell_type": "code",
   "execution_count": 373,
   "id": "aebe35ce",
   "metadata": {},
   "outputs": [
    {
     "data": {
      "text/plain": [
       "DecisionTreeRegressor(max_depth=6, max_features='auto', random_state=100,\n",
       "                      splitter='random')"
      ]
     },
     "execution_count": 373,
     "metadata": {},
     "output_type": "execute_result"
    }
   ],
   "source": [
    "tree.fit(train_data,train_output)"
   ]
  },
  {
   "cell_type": "code",
   "execution_count": 374,
   "id": "1f51398e",
   "metadata": {},
   "outputs": [],
   "source": [
    "p = tree.predict(test_data)"
   ]
  },
  {
   "cell_type": "code",
   "execution_count": 403,
   "id": "b71fb454",
   "metadata": {},
   "outputs": [
    {
     "data": {
      "text/plain": [
       "array([0.00000000e+00, 3.05193237e-05, 6.90657748e-05, 1.72500000e-04,\n",
       "       1.83423913e-04, 3.63483437e-04, 4.00181159e-04, 4.63768116e-04,\n",
       "       4.70769788e-04, 1.06889674e-03, 1.32628261e-03, 1.36148188e-03,\n",
       "       1.54948478e-03, 2.24698068e-03, 2.40581633e-03, 3.10069807e-03,\n",
       "       3.89971014e-03, 4.00048309e-03, 7.30537500e-03, 8.07246611e-03,\n",
       "       8.39250242e-03, 9.71750000e-03, 1.32611371e-02, 2.03793439e-02,\n",
       "       2.61671243e-02, 2.79210548e-02, 2.86468533e-02, 3.54566989e-02,\n",
       "       3.71705797e-02, 4.56613116e-02, 4.82927189e-02, 6.15223309e-02,\n",
       "       6.34205271e-02, 7.24450001e-02, 8.02087459e-02, 9.41447270e-02,\n",
       "       1.04517103e-01, 1.10110306e-01, 1.10391751e-01, 1.97244557e-01,\n",
       "       2.89044291e-01, 3.45389298e-01, 3.46336109e-01, 3.61482386e-01,\n",
       "       4.16970594e-01, 4.27561417e-01, 5.72480799e-01, 6.39360169e-01,\n",
       "       9.28026956e-01, 1.06112858e+00, 1.07379741e+00, 6.91697101e+00,\n",
       "       7.96726998e+01])"
      ]
     },
     "execution_count": 403,
     "metadata": {},
     "output_type": "execute_result"
    }
   ],
   "source": [
    "path=tree.cost_complexity_pruning_path(train_data,train_output)\n",
    "alpha=path['ccp_alphas']\n",
    "alpha"
   ]
  },
  {
   "cell_type": "markdown",
   "id": "7b2465c0",
   "metadata": {},
   "source": [
    "## Evalution"
   ]
  },
  {
   "cell_type": "code",
   "execution_count": 375,
   "id": "8ce39890",
   "metadata": {},
   "outputs": [
    {
     "data": {
      "text/plain": [
       "4.187503190434306"
      ]
     },
     "execution_count": 375,
     "metadata": {},
     "output_type": "execute_result"
    }
   ],
   "source": [
    "mean_squared_error(p,test_output)"
   ]
  },
  {
   "cell_type": "code",
   "execution_count": 376,
   "id": "6b5a3559",
   "metadata": {},
   "outputs": [
    {
     "data": {
      "text/plain": [
       "1.3805323974397248"
      ]
     },
     "execution_count": 376,
     "metadata": {},
     "output_type": "execute_result"
    }
   ],
   "source": [
    "mean_absolute_error(p,test_output)"
   ]
  },
  {
   "cell_type": "code",
   "execution_count": 377,
   "id": "8d6d9027",
   "metadata": {},
   "outputs": [
    {
     "data": {
      "text/plain": [
       "0.9514700097102008"
      ]
     },
     "execution_count": 377,
     "metadata": {},
     "output_type": "execute_result"
    }
   ],
   "source": [
    "r2_score(p,test_output)"
   ]
  },
  {
   "cell_type": "code",
   "execution_count": 378,
   "id": "d01c413c",
   "metadata": {},
   "outputs": [
    {
     "data": {
      "text/plain": [
       "2.046338972515137"
      ]
     },
     "execution_count": 378,
     "metadata": {},
     "output_type": "execute_result"
    }
   ],
   "source": [
    "np.sqrt(mean_squared_error(p,test_output))"
   ]
  },
  {
   "cell_type": "markdown",
   "id": "9fde0c22",
   "metadata": {},
   "source": [
    "## Train the model with the testing dataset"
   ]
  },
  {
   "cell_type": "code",
   "execution_count": 380,
   "id": "29efe9be",
   "metadata": {},
   "outputs": [],
   "source": [
    "test_dataset = pd.read_csv('./Data/test.csv')"
   ]
  },
  {
   "cell_type": "code",
   "execution_count": 379,
   "id": "d2a730ee",
   "metadata": {},
   "outputs": [
    {
     "data": {
      "text/plain": [
       "DecisionTreeRegressor(max_depth=6, max_features='auto', random_state=100,\n",
       "                      splitter='random')"
      ]
     },
     "execution_count": 379,
     "metadata": {},
     "output_type": "execute_result"
    }
   ],
   "source": [
    "tree.fit(features,output)"
   ]
  },
  {
   "cell_type": "code",
   "execution_count": 381,
   "id": "382286a1",
   "metadata": {},
   "outputs": [],
   "source": [
    "pred = tree.predict(test_dataset)"
   ]
  },
  {
   "cell_type": "code",
   "execution_count": 382,
   "id": "5743e945",
   "metadata": {},
   "outputs": [],
   "source": [
    "prediction = pd.DataFrame({'Id':range(1,193),'output':pred})"
   ]
  },
  {
   "cell_type": "code",
   "execution_count": 383,
   "id": "5ee6c6e9",
   "metadata": {},
   "outputs": [],
   "source": [
    "prediction.to_csv('./Data/prediction.csv',index=False)"
   ]
  },
  {
   "cell_type": "markdown",
   "id": "881771a9",
   "metadata": {},
   "source": [
    "## RandomForest Tree"
   ]
  },
  {
   "cell_type": "code",
   "execution_count": 384,
   "id": "a635d34e",
   "metadata": {},
   "outputs": [],
   "source": [
    "tuned_para={\n",
    "    'n_estimators':[30,35,40,45,50,55,60],\n",
    "    'max_depth':range(3,15),\n",
    "    'max_features':['auto', 'sqrt', 'log2']\n",
    "}"
   ]
  },
  {
   "cell_type": "code",
   "execution_count": 385,
   "id": "3862b547",
   "metadata": {},
   "outputs": [],
   "source": [
    "forest=GridSearchCV(RandomForestRegressor(),tuned_para,cv=10)"
   ]
  },
  {
   "cell_type": "code",
   "execution_count": 386,
   "id": "9889e11b",
   "metadata": {},
   "outputs": [
    {
     "data": {
      "text/plain": [
       "GridSearchCV(cv=10, estimator=RandomForestRegressor(),\n",
       "             param_grid={'max_depth': range(3, 15),\n",
       "                         'max_features': ['auto', 'sqrt', 'log2'],\n",
       "                         'n_estimators': [30, 35, 40, 45, 50, 55, 60]})"
      ]
     },
     "execution_count": 386,
     "metadata": {},
     "output_type": "execute_result"
    }
   ],
   "source": [
    "forest.fit(train_data,train_output)"
   ]
  },
  {
   "cell_type": "code",
   "execution_count": 387,
   "id": "d1110bf0",
   "metadata": {},
   "outputs": [
    {
     "data": {
      "text/plain": [
       "0.968009785116213"
      ]
     },
     "execution_count": 387,
     "metadata": {},
     "output_type": "execute_result"
    }
   ],
   "source": [
    "forest.best_score_"
   ]
  },
  {
   "cell_type": "code",
   "execution_count": 388,
   "id": "850194f1",
   "metadata": {},
   "outputs": [
    {
     "data": {
      "text/plain": [
       "RandomForestRegressor(max_depth=10, max_features='sqrt', n_estimators=50)"
      ]
     },
     "execution_count": 388,
     "metadata": {},
     "output_type": "execute_result"
    }
   ],
   "source": [
    "forest.best_estimator_"
   ]
  },
  {
   "cell_type": "code",
   "execution_count": 389,
   "id": "b53e832f",
   "metadata": {},
   "outputs": [],
   "source": [
    "randomForest=RandomForestRegressor(n_estimators=30, max_depth=13,max_features='sqrt')"
   ]
  },
  {
   "cell_type": "code",
   "execution_count": 390,
   "id": "0f69deeb",
   "metadata": {},
   "outputs": [
    {
     "data": {
      "text/plain": [
       "RandomForestRegressor(max_depth=13, max_features='sqrt', n_estimators=30)"
      ]
     },
     "execution_count": 390,
     "metadata": {},
     "output_type": "execute_result"
    }
   ],
   "source": [
    "randomForest.fit(train_data,train_output)"
   ]
  },
  {
   "cell_type": "code",
   "execution_count": 391,
   "id": "88996889",
   "metadata": {},
   "outputs": [],
   "source": [
    "pred=randomForest.predict(test_data)"
   ]
  },
  {
   "cell_type": "markdown",
   "id": "3ab16245",
   "metadata": {},
   "source": [
    "## Evalution"
   ]
  },
  {
   "cell_type": "code",
   "execution_count": 393,
   "id": "55f73de2",
   "metadata": {},
   "outputs": [
    {
     "data": {
      "text/plain": [
       "3.009897841847591"
      ]
     },
     "execution_count": 393,
     "metadata": {},
     "output_type": "execute_result"
    }
   ],
   "source": [
    "mean_squared_error(pred,test_output)"
   ]
  },
  {
   "cell_type": "code",
   "execution_count": 394,
   "id": "268c5a6c",
   "metadata": {},
   "outputs": [
    {
     "data": {
      "text/plain": [
       "1.1713371647509576"
      ]
     },
     "execution_count": 394,
     "metadata": {},
     "output_type": "execute_result"
    }
   ],
   "source": [
    "mean_absolute_error(pred,test_output)"
   ]
  },
  {
   "cell_type": "code",
   "execution_count": 395,
   "id": "eb1797d9",
   "metadata": {},
   "outputs": [
    {
     "data": {
      "text/plain": [
       "0.9652649282245304"
      ]
     },
     "execution_count": 395,
     "metadata": {},
     "output_type": "execute_result"
    }
   ],
   "source": [
    "r2_score(pred,test_output)"
   ]
  },
  {
   "cell_type": "code",
   "execution_count": 396,
   "id": "3a0bdf88",
   "metadata": {},
   "outputs": [
    {
     "data": {
      "text/plain": [
       "1.7349057155498655"
      ]
     },
     "execution_count": 396,
     "metadata": {},
     "output_type": "execute_result"
    }
   ],
   "source": [
    "np.sqrt(mean_squared_error(pred,test_output))"
   ]
  },
  {
   "cell_type": "markdown",
   "id": "8bfac9a7",
   "metadata": {},
   "source": [
    "## Train the model with the testing dataset"
   ]
  },
  {
   "cell_type": "code",
   "execution_count": 397,
   "id": "e6d3b94f",
   "metadata": {},
   "outputs": [
    {
     "data": {
      "text/plain": [
       "RandomForestRegressor(max_depth=13, max_features='sqrt', n_estimators=30)"
      ]
     },
     "execution_count": 397,
     "metadata": {},
     "output_type": "execute_result"
    }
   ],
   "source": [
    "randomForest.fit(features,output)"
   ]
  },
  {
   "cell_type": "code",
   "execution_count": 398,
   "id": "449b4b88",
   "metadata": {},
   "outputs": [],
   "source": [
    "pred=randomForest.predict(test_dataset)"
   ]
  },
  {
   "cell_type": "code",
   "execution_count": 399,
   "id": "8d4a612e",
   "metadata": {},
   "outputs": [],
   "source": [
    "prediction = pd.DataFrame({'Id':range(1,193),'output':pred})"
   ]
  },
  {
   "cell_type": "code",
   "execution_count": 400,
   "id": "89891a3a",
   "metadata": {},
   "outputs": [],
   "source": [
    "prediction.to_csv('./Data/prediction_new.csv',index=False)"
   ]
  }
 ],
 "metadata": {
  "kernelspec": {
   "display_name": "Python 3 (ipykernel)",
   "language": "python",
   "name": "python3"
  },
  "language_info": {
   "codemirror_mode": {
    "name": "ipython",
    "version": 3
   },
   "file_extension": ".py",
   "mimetype": "text/x-python",
   "name": "python",
   "nbconvert_exporter": "python",
   "pygments_lexer": "ipython3",
   "version": "3.9.13"
  }
 },
 "nbformat": 4,
 "nbformat_minor": 5
}
